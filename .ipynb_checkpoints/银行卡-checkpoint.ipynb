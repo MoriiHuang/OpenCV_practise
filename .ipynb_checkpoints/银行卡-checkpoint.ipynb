{
 "cells": [
  {
   "cell_type": "code",
   "execution_count": 2,
   "metadata": {},
   "outputs": [],
   "source": [
    "import cv2\n",
    "import numpy as np\n",
    "import matplotlib.pyplot as plt\n",
    "%matplotlib inline\n",
    "def cv_show(name,img):\n",
    "    cv2.startWindowThread()\n",
    "    cv2.imshow(name,img)\n",
    "    cv2.waitKey(0)\n",
    "    cv2.destroyAllWindows()\n",
    "    cv2.waitKey(1)\n",
    "template=cv2.imread('bank3.png')\n",
    "cv_show('template',template)"
   ]
  },
  {
   "cell_type": "code",
   "execution_count": 51,
   "metadata": {},
   "outputs": [],
   "source": [
    "def sort_my_contours(contours):\n",
    "    i=0\n",
    "    reverse=False\n",
    "    bondingBoxes=[cv2.boundingRect(c) for c in contours]\n",
    "    (contours,bondingBoxes)=zip(*sorted(zip(contours,bondingBoxes),\n",
    "    key=lambda b:b[1][i],reverse=reverse))\n",
    "    return contours"
   ]
  },
  {
   "cell_type": "code",
   "execution_count": 53,
   "metadata": {},
   "outputs": [],
   "source": [
    "template=cv2.imread('bank3.png')\n",
    "ref=cv2.cvtColor(template,cv2.COLOR_BGR2GRAY)\n",
    "ref=cv2.threshold(ref,127,255,cv2.THRESH_BINARY)[1]\n",
    "contours,hierachy=cv2.findContours(ref,cv2.RETR_EXTERNAL,cv2.CHAIN_APPROX_NONE)\n",
    "draw_gray=template.copy()\n",
    "# res3=cv2.drawContours(draw_gray,contours,-1,(0,0,255),3)\n",
    "sorted_contours=sort_my_contours(contours)\n",
    "res3=cv2.drawContours(draw_gray,sorted_contours,0,(0,0,255),3)\n",
    "cv_show('fourth',res3)"
   ]
  },
  {
   "cell_type": "code",
   "execution_count": null,
   "metadata": {},
   "outputs": [],
   "source": [
    "for(i,c) in enumerate(countours):\n",
    "    \n"
   ]
  }
 ],
 "metadata": {
  "kernelspec": {
   "display_name": "Python 3",
   "language": "python",
   "name": "python3"
  },
  "language_info": {
   "codemirror_mode": {
    "name": "ipython",
    "version": 3
   },
   "file_extension": ".py",
   "mimetype": "text/x-python",
   "name": "python",
   "nbconvert_exporter": "python",
   "pygments_lexer": "ipython3",
   "version": "3.7.0"
  }
 },
 "nbformat": 4,
 "nbformat_minor": 4
}
